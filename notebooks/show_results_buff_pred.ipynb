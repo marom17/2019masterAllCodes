{
 "cells": [
  {
   "cell_type": "code",
   "execution_count": 2,
   "metadata": {},
   "outputs": [],
   "source": [
    "import matplotlib.pyplot as plt\n",
    "import numpy as np\n",
    "import pandas as pd\n",
    "import time\n",
    "import os\n",
    "%matplotlib inline\n",
    "from matplotlib.pylab import rcParams\n"
   ]
  },
  {
   "cell_type": "code",
   "execution_count": 3,
   "metadata": {},
   "outputs": [],
   "source": [
    "path = \"results/buffpred\"\n",
    "file = [\"results-buff-pred.csv\"]"
   ]
  },
  {
   "cell_type": "code",
   "execution_count": 4,
   "metadata": {},
   "outputs": [
    {
     "name": "stdout",
     "output_type": "stream",
     "text": [
      "Iteration: 0\n",
      "AVG ARIMA 10-5 0.7965243179122189\n",
      "AVG ARIMA 10-10 0.7201482799525509\n",
      "AVG ARIMA 10-15 0.661277184657967\n",
      "AVG ARIMA 20-5 0.863190984578887\n",
      "AVG ARIMA 20-10 0.8291340450771074\n",
      "AVG ARIMA 20-15 0.794282325029656\n",
      "AVG AR 10-5 0.9995799544950702\n",
      "AVG AR 10-10 0.9956471868474456\n",
      "AVG AR 10-15 0.9920410530661998\n",
      "AVG AR 20-5 1.0\n",
      "AVG AR 20-10 0.999594129584424\n",
      "AVG AR 20-15 0.9990562513517233\n",
      "\n",
      "Iteration: 1\n",
      "AVG ARIMA 10-5 0.8843534994068818\n",
      "AVG ARIMA 10-10 0.8365243179122184\n",
      "AVG ARIMA 10-15 0.7930604982206394\n",
      "AVG ARIMA 20-5 0.9387781731909859\n",
      "AVG ARIMA 20-10 0.9301542111506522\n",
      "AVG ARIMA 20-15 0.9161684460260986\n",
      "AVG AR 10-5 0.951053030744997\n",
      "AVG AR 10-10 0.9230199111790829\n",
      "AVG AR 10-15 0.8984880360197405\n",
      "AVG AR 20-5 0.9572720378040955\n",
      "AVG AR 20-10 0.9316902444045758\n",
      "AVG AR 20-15 0.9074182576040579\n",
      "\n",
      "Iteration: 2\n",
      "AVG ARIMA 10-5 0.8932740213523143\n",
      "AVG ARIMA 10-10 0.8634578884934766\n",
      "AVG ARIMA 10-15 0.8283115856069593\n",
      "AVG ARIMA 20-5 0.9430249110320298\n",
      "AVG ARIMA 20-10 0.9358956109134039\n",
      "AVG ARIMA 20-15 0.9216844602609748\n",
      "AVG AR 10-5 0.9913773992182482\n",
      "AVG AR 10-10 0.9856239522366985\n",
      "AVG AR 10-15 0.9809559387349839\n",
      "AVG AR 20-5 0.9960679073566302\n",
      "AVG AR 20-10 0.9952177877121254\n",
      "AVG AR 20-15 0.9945065964098226\n",
      "\n",
      "Iteration: 3\n",
      "AVG ARIMA 10-5 0.8692170818505351\n",
      "AVG ARIMA 10-10 0.8219335705812578\n",
      "AVG ARIMA 10-15 0.776563859232898\n",
      "AVG ARIMA 20-5 0.9391459074733121\n",
      "AVG ARIMA 20-10 0.9285468564650055\n",
      "AVG ARIMA 20-15 0.9104151838671419\n",
      "AVG AR 10-5 0.9972230324951865\n",
      "AVG AR 10-10 0.991912002588159\n",
      "AVG AR 10-15 0.9879750693065413\n",
      "AVG AR 20-5 0.9989032145149058\n",
      "AVG AR 20-10 0.9984000470574393\n",
      "AVG AR 20-15 0.9971176343367216\n",
      "\n",
      "Iteration: 4\n",
      "AVG ARIMA 10-5 0.8670581257414021\n",
      "AVG ARIMA 10-10 0.800249110320285\n",
      "AVG ARIMA 10-15 0.7431356267299325\n",
      "AVG ARIMA 20-5 0.9261091340450788\n",
      "AVG ARIMA 20-10 0.9101126927639379\n",
      "AVG ARIMA 20-15 0.8866824831949386\n",
      "AVG AR 10-5 0.9990899014059857\n",
      "AVG AR 10-10 0.996188347401547\n",
      "AVG AR 10-15 0.9927095416920628\n",
      "AVG AR 20-5 1.0\n",
      "AVG AR 20-10 1.0\n",
      "AVG AR 20-15 1.0\n",
      "\n",
      "Iteration: 5\n",
      "AVG ARIMA 10-5 0.9032621589561107\n",
      "AVG ARIMA 10-10 0.9023665480427048\n",
      "AVG ARIMA 10-15 0.895255041518388\n",
      "AVG ARIMA 20-5 0.9483392645314359\n",
      "AVG ARIMA 20-10 0.9538552787663105\n",
      "AVG ARIMA 20-15 0.9555041518386715\n",
      "AVG AR 10-5 0.96539291756607\n",
      "AVG AR 10-10 0.9251374959560011\n",
      "AVG AR 10-15 0.8910088279821479\n",
      "AVG AR 20-5 0.9704451315559187\n",
      "AVG AR 20-10 0.9320314108408575\n",
      "AVG AR 20-15 0.896278091268359\n",
      "\n",
      "\n"
     ]
    }
   ],
   "source": [
    "with open(path+\"/\"+file[0], 'r') as content_file:\n",
    "    content = content_file.read()\n",
    "    print(content)"
   ]
  },
  {
   "cell_type": "code",
   "execution_count": null,
   "metadata": {},
   "outputs": [],
   "source": []
  }
 ],
 "metadata": {
  "kernelspec": {
   "display_name": "Python 3",
   "language": "python",
   "name": "python3"
  },
  "language_info": {
   "codemirror_mode": {
    "name": "ipython",
    "version": 3
   },
   "file_extension": ".py",
   "mimetype": "text/x-python",
   "name": "python",
   "nbconvert_exporter": "python",
   "pygments_lexer": "ipython3",
   "version": "3.7.3"
  }
 },
 "nbformat": 4,
 "nbformat_minor": 2
}
