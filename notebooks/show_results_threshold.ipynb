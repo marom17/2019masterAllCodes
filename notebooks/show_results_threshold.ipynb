{
 "cells": [
  {
   "cell_type": "code",
   "execution_count": 2,
   "metadata": {},
   "outputs": [],
   "source": [
    "import matplotlib.pyplot as plt\n",
    "import numpy as np\n",
    "import pandas as pd\n",
    "import time\n",
    "import os\n",
    "%matplotlib inline\n",
    "from matplotlib.pylab import rcParams\n",
    "rcParams['figure.figsize'] = 15, 6"
   ]
  },
  {
   "cell_type": "code",
   "execution_count": 1,
   "metadata": {},
   "outputs": [],
   "source": [
    "path = \"results/threshold\"\n",
    "file = [\"results-threshold.csv\"]"
   ]
  },
  {
   "cell_type": "code",
   "execution_count": 2,
   "metadata": {},
   "outputs": [
    {
     "name": "stdout",
     "output_type": "stream",
     "text": [
      "2019-05-13 00-00-01 scd30.csv\n",
      "Iteration: 0\n",
      "AVG AR 1.0\n",
      "[[0, 0], [0, 1405]]\n",
      "2019-05-28 01-00-01 scd30.csv\n",
      "Iteration: 1\n",
      "AVG AR 0.9807829181494662\n",
      "[[702, 13], [14, 676]]\n",
      "2019-06-13 01-00-02 scd30.csv\n",
      "Iteration: 2\n",
      "AVG AR 1.0\n",
      "[[0, 0], [0, 1405]]\n",
      "2019-05-20 00-00-01 scd30.csv\n",
      "Iteration: 3\n",
      "AVG AR 1.0\n",
      "[[0, 0], [0, 1405]]\n",
      "2019-06-10 01-00-02 scd30.csv\n",
      "Iteration: 4\n",
      "AVG AR 1.0\n",
      "[[0, 0], [0, 1405]]\n",
      "2019-05-29 01-00-02 scd30.csv\n",
      "Iteration: 5\n",
      "AVG AR 0.9772241992882562\n",
      "[[1030, 21], [11, 343]]\n",
      "\n"
     ]
    }
   ],
   "source": [
    "with open(path+\"/\"+file[0], 'r') as content_file:\n",
    "    content = content_file.read()\n",
    "    print(content)"
   ]
  },
  {
   "cell_type": "code",
   "execution_count": null,
   "metadata": {},
   "outputs": [],
   "source": []
  }
 ],
 "metadata": {
  "kernelspec": {
   "display_name": "Python 3",
   "language": "python",
   "name": "python3"
  },
  "language_info": {
   "codemirror_mode": {
    "name": "ipython",
    "version": 3
   },
   "file_extension": ".py",
   "mimetype": "text/x-python",
   "name": "python",
   "nbconvert_exporter": "python",
   "pygments_lexer": "ipython3",
   "version": "3.7.3"
  }
 },
 "nbformat": 4,
 "nbformat_minor": 2
}
