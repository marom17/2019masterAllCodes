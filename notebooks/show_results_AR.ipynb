{
 "cells": [
  {
   "cell_type": "code",
   "execution_count": 2,
   "metadata": {},
   "outputs": [],
   "source": [
    "import matplotlib.pyplot as plt\n",
    "import numpy as np\n",
    "import pandas as pd\n",
    "import time\n",
    "import os\n",
    "%matplotlib inline\n",
    "from matplotlib.pylab import rcParams\n",
    "rcParams['figure.figsize'] = 15, 6"
   ]
  },
  {
   "cell_type": "code",
   "execution_count": 3,
   "metadata": {},
   "outputs": [],
   "source": [
    "path = \"results/confint\"\n",
    "file = [\"results-confint.csv\"]"
   ]
  },
  {
   "cell_type": "code",
   "execution_count": 7,
   "metadata": {},
   "outputs": [
    {
     "name": "stdout",
     "output_type": "stream",
     "text": [
      "2019-05-13 00-00-01 scd30.csv\n",
      "Iteration: 0\n",
      "AVG AR 4 :0.7894830307813732\n",
      "AVG AR 4 :0.9854775059194948\n",
      "AVG AR 4 :0.997987371744278\n",
      "AVG AR 4 :0.9986385161799526\n",
      "AVG AR 4 :0.9988752959747436\n",
      "AVG AR 4 :1.0\n",
      "AVG AR 4 :1.0\n",
      "AVG AR 4 :1.0\n",
      "2019-05-28 01-00-01 scd30.csv\n",
      "Iteration: 1\n",
      "AVG AR 4 :0.5254932912391477\n",
      "AVG AR 4 :0.7327742699289654\n",
      "AVG AR 4 :0.8075374901341751\n",
      "AVG AR 4 :0.8480860299921074\n",
      "AVG AR 4 :0.881393054459353\n",
      "AVG AR 4 :0.9015785319652722\n",
      "AVG AR 4 :0.9172849250197317\n",
      "AVG AR 4 :0.9305051302288869\n",
      "2019-06-13 01-00-02 scd30.csv\n",
      "Iteration: 2\n",
      "AVG AR 4 :0.6802683504340965\n",
      "AVG AR 4 :0.9103591160220994\n",
      "AVG AR 4 :0.9683504340962898\n",
      "AVG AR 4 :0.9829123914759269\n",
      "AVG AR 4 :0.9903117600631415\n",
      "AVG AR 4 :0.9935674822415149\n",
      "AVG AR 4 :0.9953038674033147\n",
      "AVG AR 4 :0.9964680347277031\n",
      "2019-05-20 00-00-01 scd30.csv\n",
      "Iteration: 3\n",
      "AVG AR 4 :0.6992501973164958\n",
      "AVG AR 4 :0.9382004735595889\n",
      "AVG AR 4 :0.9846487766377271\n",
      "AVG AR 4 :0.9944948697711128\n",
      "AVG AR 4 :0.9978295185477503\n",
      "AVG AR 4 :0.9983425414364641\n",
      "AVG AR 4 :0.9986779794790844\n",
      "AVG AR 4 :0.9991910023677978\n",
      "2019-06-10 01-00-02 scd30.csv\n",
      "Iteration: 4\n",
      "AVG AR 4 :0.8267758484609313\n",
      "AVG AR 4 :0.9830505130228888\n",
      "AVG AR 4 :0.9991712707182322\n",
      "AVG AR 4 :1.0\n",
      "AVG AR 4 :1.0\n",
      "AVG AR 4 :1.0\n",
      "AVG AR 4 :1.0\n",
      "AVG AR 4 :1.0\n",
      "2019-05-29 01-00-02 scd30.csv\n",
      "Iteration: 5\n",
      "AVG AR 4 :0.46489739542225755\n",
      "AVG AR 4 :0.677525651144436\n",
      "AVG AR 4 :0.7833662194159429\n",
      "AVG AR 4 :0.8385161799526442\n",
      "AVG AR 4 :0.8751578531965273\n",
      "AVG AR 4 :0.9006116811365429\n",
      "AVG AR 4 :0.920027624309392\n",
      "AVG AR 4 :0.934451460142068\n",
      "\n"
     ]
    }
   ],
   "source": [
    "with open(path+\"/\"+file[0], 'r') as content_file:\n",
    "    content = content_file.read()\n",
    "    print(content)"
   ]
  },
  {
   "cell_type": "code",
   "execution_count": null,
   "metadata": {},
   "outputs": [],
   "source": []
  }
 ],
 "metadata": {
  "kernelspec": {
   "display_name": "Python 3",
   "language": "python",
   "name": "python3"
  },
  "language_info": {
   "codemirror_mode": {
    "name": "ipython",
    "version": 3
   },
   "file_extension": ".py",
   "mimetype": "text/x-python",
   "name": "python",
   "nbconvert_exporter": "python",
   "pygments_lexer": "ipython3",
   "version": "3.7.3"
  }
 },
 "nbformat": 4,
 "nbformat_minor": 2
}
