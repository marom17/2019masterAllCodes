{
 "cells": [
  {
   "cell_type": "markdown",
   "metadata": {},
   "source": [
    "This notebook is used in the improvement of our models.\n",
    "The test do variation on the confidence interval of AR"
   ]
  },
  {
   "cell_type": "code",
   "execution_count": null,
   "metadata": {},
   "outputs": [],
   "source": [
    "import os\n",
    "import pandas as pd\n",
    "import numpy as np\n",
    "import time\n",
    "from datetime import timedelta\n",
    "from pmdarima.arima import ARIMA\n",
    "from pmdarima.arima import auto_arima\n",
    "from statsmodels.tsa.ar_model import AR\n",
    "import matplotlib.pyplot as plt\n",
    "%matplotlib inline\n",
    "from matplotlib.pylab import rcParams\n",
    "rcParams['figure.figsize'] = 15, 6"
   ]
  },
  {
   "cell_type": "code",
   "execution_count": null,
   "metadata": {},
   "outputs": [],
   "source": [
    "path = \"dataset/test\"\n",
    "files = [\"2019-05-13 00-00-01 scd30.csv\",\"2019-05-28 01-00-01 scd30.csv\",\"2019-06-13 01-00-02 scd30.csv\",\n",
    "          \"2019-05-20 00-00-01 scd30.csv\",\"2019-06-10 01-00-02 scd30.csv\",\"2019-05-29 01-00-02 scd30.csv\"]"
   ]
  },
  {
   "cell_type": "code",
   "execution_count": null,
   "metadata": {},
   "outputs": [],
   "source": [
    "def custom_resampler(array_like):\n",
    "    return array_like[0]"
   ]
  },
  {
   "cell_type": "code",
   "execution_count": null,
   "metadata": {},
   "outputs": [],
   "source": [
    "import numpy as np\n",
    "import time\n",
    "from statsmodels.tsa.ar_model import AR\n",
    "from datetime import timedelta\n",
    "\n",
    "class Test_AR():\n",
    "\n",
    "    def __init__(self,bufferSize,nbPred,nbPreMin,isLog,confint=30):\n",
    "        self.avgAR = 0\n",
    "        self.bufferSize = bufferSize\n",
    "        self.nbPred = nbPred\n",
    "        self.isLog = isLog\n",
    "        self.nbPreMin = nbPreMin\n",
    "        self.confint = confint\n",
    "    \n",
    "    def pred(self,ts,valid,f):\n",
    "        start = time.time()\n",
    "        modelAR = AR(ts).fit()\n",
    "        try:\n",
    "            pred = modelAR.predict(ts.index[-1],ts.index[-1] + timedelta(minutes=self.nbPred))\n",
    "            end = time.time()\n",
    "            f.write(str(end-start)+\",\")\n",
    "            inPred = 0\n",
    "            if(self.isLog):\n",
    "                pred = np.exp(pred)\n",
    "                ts = np.exp(ts)\n",
    "            \n",
    "            for k in range(0,len(pred)):\n",
    "                if(valid[k]>= pred[k] - self.confint and valid[k]<= pred[k] + self.confint):\n",
    "                    inPred += 1\n",
    "            percent = inPred/len(pred)\n",
    "        except Exception as e:\n",
    "            #print(e)\n",
    "            inPred = 0\n",
    "            percent = 0\n",
    "        f.write(str(percent))\n",
    "        self.avgAR += percent\n",
    "\n",
    "    def getAvg(self):\n",
    "        return self.avgAR"
   ]
  },
  {
   "cell_type": "code",
   "execution_count": null,
   "metadata": {
    "scrolled": false
   },
   "outputs": [],
   "source": [
    "dateparse = lambda dates: pd.datetime.strptime(dates, '%Y-%m-%d %H-%M-%S')\n",
    "\n",
    "for i in range(0,len(files)):\n",
    "    \n",
    "    data = pd.read_csv(path+'/'+files[i], parse_dates=['Time'], index_col='Time',date_parser=dateparse)\n",
    "    idx = pd.date_range(start=data.index[0],end=data.index[-1],freq=\"S\")\n",
    "    dataFix = data.reindex(idx, fill_value=np.nan)\n",
    "    dataFix = dataFix.interpolate()\n",
    "    date_rng = pd.date_range(start=dataFix.index[0], end=dataFix.index[-1], freq='5T')\n",
    "    \n",
    "    j = len(date_rng) - 8\n",
    "    nbPredPMin = 12\n",
    "    \n",
    "    confintArray = [5,10,15,20,25,30,35,40]\n",
    "    \n",
    "    dataSampling = [\"5S\"]\n",
    "    sampling = \"5S\"\n",
    "    bufsize = [4]\n",
    "    \n",
    "    f = open(\"results/confint/results-confint.csv\",\"a\")\n",
    "    f.write(files[i]+\"\\n\")\n",
    "    f.write(\"Iteration: \"+str(i)+\"\\n\")\n",
    "    print(files[i]+\"\\n\")\n",
    "    print(\"Iteration: \"+str(i))\n",
    "    f.close()\n",
    "    z = 0\n",
    "    for confint in confintArray:\n",
    "        \n",
    "        print(confint)\n",
    "        for l in range(0,len(bufsize)):\n",
    "            ARLog = Test_AR(20,15,nbPredPMin,True,confint)\n",
    "            kl = 0\n",
    "            for k in range(0,j):\n",
    "                f = open(\"results/confint/results-confint\"+str(i)+\"-\"+str(z)+\".csv\",\"a\")\n",
    "                f.write(str(k)+\",\")\n",
    "\n",
    "                ###########\n",
    "                if(True):\n",
    "                    try:\n",
    "                        date_rng = pd.date_range(start=dataFix.index[0], end=dataFix.index[-1], freq=\"5T\")\n",
    "                        tsFix = dataFix[date_rng[k]:date_rng[k+bufsize[l]]][\"#CO2\"]\n",
    "                        valid = dataFix[date_rng[k+bufsize[l]]:date_rng[k+bufsize[l]+3]][\"#CO2\"]\n",
    "\n",
    "                        tsFix = tsFix.resample(sampling).mean()\n",
    "                        ts_log = np.log(tsFix)  \n",
    "                        valid = valid.resample(sampling).apply(custom_resampler)\n",
    "                        ARLog.pred(ts_log,valid,f)\n",
    "                    except:\n",
    "                        continue\n",
    "\n",
    "                f.write(\"\\n\")\n",
    "                f.close()\n",
    "                kl +=1\n",
    "            f = open(\"results/confint/results-confint.csv\",\"a\")\n",
    "            f.write(\"AVG AR \"+str(bufsize[l])+\" :\"+str(ARLog.getAvg()/kl)+\"\\n\")\n",
    "            print(\"AVG AR \"+str(bufsize[l])+\" :\"+str(ARLog.getAvg()/kl))\n",
    "            f.close()\n",
    "        z+=1\n",
    "\n",
    "    print(\"\\n\")"
   ]
  },
  {
   "cell_type": "code",
   "execution_count": null,
   "metadata": {},
   "outputs": [],
   "source": []
  }
 ],
 "metadata": {
  "kernelspec": {
   "display_name": "Python 3",
   "language": "python",
   "name": "python3"
  },
  "language_info": {
   "codemirror_mode": {
    "name": "ipython",
    "version": 3
   },
   "file_extension": ".py",
   "mimetype": "text/x-python",
   "name": "python",
   "nbconvert_exporter": "python",
   "pygments_lexer": "ipython3",
   "version": "3.7.3"
  }
 },
 "nbformat": 4,
 "nbformat_minor": 2
}
